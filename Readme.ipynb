{
 "cells": [
  {
   "cell_type": "markdown",
   "metadata": {},
   "source": [
    "# project-4-disaster-rapid-alert\n",
    "\n",
    "\n",
    "\n",
    "\n",
    "## Problem Statement\n",
    "As the number of urgent words in a tweet increase, how do the odds of the tweet being urgent increase? \n",
    "As the number of urgent tweets per hour increase, how do the odds that a true disaster has occurred increases?\n",
    "\n",
    "\n",
    "## Executive Summary\n",
    "Will design and implement a web-tool or an app for rapid alert and notification about a disastrous event, in close to real time. The tool will alert about the event, similar, for example, to earthquake or tsunami warnings that appear on Google's home page immediately after a major disaster. While traditional methods for alerting on such events rely on official information derived from official sources (e.g. USGS), this tool will utilize social media activity to identify these events and alert when an event first occurs.\n",
    "\n",
    "\n",
    "\n",
    "## Conclusion\n",
    "\n",
    "\n",
    "\n",
    "\n",
    "## References\n",
    "\n",
    "Dataset: Disasters on social media: https://www.kaggle.com/jannesklaas/disasters-on-social-media/home  \n",
    "Training set for relevant or not relevant: https://www.mturk.com/\n",
    "Build bag of words to classify disaster: https://www.kaggle.com/dan195/hurricaneharvey  \n",
    "Hand Classification: Amazon Mechanical Turk: \n",
    "Dataset: Hurricane Harvey Tweets  \n",
    "Can we / Should we make a time series out of this?  \n",
    "Crisis NLP  \n",
    "Improving disaster response through Twitter data  \n",
    "Tools and methods for capturing Twitter data during natural disasters  \n",
    "Introduction to Doc2Vec  \n",
    "Doc2Vec Documentation  \n",
    "Training the English Wikipedia on Doc2Vec\n",
    "Get Old Tweets - this is the mvp for collecting old tweets\n",
    "\n"
   ]
  },
  {
   "cell_type": "code",
   "execution_count": null,
   "metadata": {},
   "outputs": [],
   "source": []
  }
 ],
 "metadata": {
  "kernelspec": {
   "display_name": "Python 3",
   "language": "python",
   "name": "python3"
  },
  "language_info": {
   "codemirror_mode": {
    "name": "ipython",
    "version": 3
   },
   "file_extension": ".py",
   "mimetype": "text/x-python",
   "name": "python",
   "nbconvert_exporter": "python",
   "pygments_lexer": "ipython3",
   "version": "3.6.5"
  }
 },
 "nbformat": 4,
 "nbformat_minor": 2
}
