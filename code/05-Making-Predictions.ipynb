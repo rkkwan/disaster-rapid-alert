{
 "cells": [
  {
   "cell_type": "markdown",
   "metadata": {},
   "source": [
    "# Making Predictions"
   ]
  },
  {
   "cell_type": "markdown",
   "metadata": {},
   "source": [
    "We use Doc2Vec and Logistic Regression Models to classify unseen tweets as \"Relevant\" or \"Not Relevant\"."
   ]
  },
  {
   "cell_type": "markdown",
   "metadata": {},
   "source": [
    "## Table of Contents\n",
    "\n",
    "1. [Collecting Tweets](01-Gathering-Data.ipynb)\n",
    "1. [Feature Engineering with TF-IDF](02-Feature-Engineering.ipynb)\n",
    "1. [Benchmark Model](03-Benchmark-Model.ipynb)\n",
    "1. [Feature Engineering & Model Tuning with Doc2Vec](04-Model-Tuning.ipynb)\n",
    "1. [Making Predictions on Test Data](05-Making-Predictions.ipynb)\n",
    "1. [Visualizing a Disaster Event](06-Time-Series-Analysis.ipynb)"
   ]
  },
  {
   "cell_type": "markdown",
   "metadata": {},
   "source": [
    "### Import Libaries"
   ]
  },
  {
   "cell_type": "code",
   "execution_count": 1,
   "metadata": {},
   "outputs": [],
   "source": [
    "import pandas as pd\n",
    "import numpy as np\n",
    "from gensim.models import Doc2Vec\n",
    "from nltk.stem.wordnet import WordNetLemmatizer\n",
    "from nltk.stem import PorterStemmer\n",
    "from nltk.tokenize.regexp import RegexpTokenizer\n",
    "from nltk.corpus import stopwords\n",
    "import regex as re\n",
    "import gensim\n",
    "import time\n",
    "import pickle"
   ]
  },
  {
   "cell_type": "markdown",
   "metadata": {},
   "source": [
    "### Load Models"
   ]
  },
  {
   "cell_type": "code",
   "execution_count": 2,
   "metadata": {},
   "outputs": [],
   "source": [
    "#import models\n",
    "models = pickle.load(open('../data/pickles/models.pk', 'rb'))\n",
    "model_dbow = models['model_dbow']\n",
    "logreg = models['logreg']"
   ]
  },
  {
   "cell_type": "markdown",
   "metadata": {},
   "source": [
    "#### We collected tweets from 2 different date ranges using search terms \"wildfire\" and \"forest fire\":\n",
    " - July 12th - 13th, 2018\n",
    "  - \"In mid-July to August 2018, a series of large wildfires erupted across California, mostly in the northern part of the state, including the destructive Carr Fire and the Mendocino Complex Fire. On August 4, 2018, a national disaster was declared in Northern California, due to the extensive wildfires burning there.\" [Wikipedia](https://en.wikipedia.org/wiki/2018_California_wildfires)\n",
    " - January 15th - 16th, 2019\n",
    "  - No current/recent wildfire emergencies\n",
    "\n"
   ]
  },
  {
   "cell_type": "markdown",
   "metadata": {},
   "source": [
    "### Load Data"
   ]
  },
  {
   "cell_type": "code",
   "execution_count": 3,
   "metadata": {
    "scrolled": true
   },
   "outputs": [
    {
     "data": {
      "text/html": [
       "<div>\n",
       "<style scoped>\n",
       "    .dataframe tbody tr th:only-of-type {\n",
       "        vertical-align: middle;\n",
       "    }\n",
       "\n",
       "    .dataframe tbody tr th {\n",
       "        vertical-align: top;\n",
       "    }\n",
       "\n",
       "    .dataframe thead th {\n",
       "        text-align: right;\n",
       "    }\n",
       "</style>\n",
       "<table border=\"1\" class=\"dataframe\">\n",
       "  <thead>\n",
       "    <tr style=\"text-align: right;\">\n",
       "      <th></th>\n",
       "      <th>text</th>\n",
       "    </tr>\n",
       "    <tr>\n",
       "      <th>date</th>\n",
       "      <th></th>\n",
       "    </tr>\n",
       "  </thead>\n",
       "  <tbody>\n",
       "    <tr>\n",
       "      <th>2018-07-12 16:59:55</th>\n",
       "      <td>You are a forest fire</td>\n",
       "    </tr>\n",
       "    <tr>\n",
       "      <th>2018-07-12 16:59:05</th>\n",
       "      <td>@ fireadaptednet has a new blog \"Co-Managing W...</td>\n",
       "    </tr>\n",
       "    <tr>\n",
       "      <th>2018-07-12 16:58:54</th>\n",
       "      <td>Ever wonder what type of questions you should ...</td>\n",
       "    </tr>\n",
       "    <tr>\n",
       "      <th>2018-07-12 16:58:50</th>\n",
       "      <td>Ever wonder what type of questions you should ...</td>\n",
       "    </tr>\n",
       "    <tr>\n",
       "      <th>2018-07-12 16:58:26</th>\n",
       "      <td>Updated: Evacuation order given as Kamloops wi...</td>\n",
       "    </tr>\n",
       "  </tbody>\n",
       "</table>\n",
       "</div>"
      ],
      "text/plain": [
       "                                                                  text\n",
       "date                                                                  \n",
       "2018-07-12 16:59:55                              You are a forest fire\n",
       "2018-07-12 16:59:05  @ fireadaptednet has a new blog \"Co-Managing W...\n",
       "2018-07-12 16:58:54  Ever wonder what type of questions you should ...\n",
       "2018-07-12 16:58:50  Ever wonder what type of questions you should ...\n",
       "2018-07-12 16:58:26  Updated: Evacuation order given as Kamloops wi..."
      ]
     },
     "execution_count": 3,
     "metadata": {},
     "output_type": "execute_result"
    }
   ],
   "source": [
    "#reading in sample tweets\n",
    "fire_tweets = pd.read_csv('../data/datasets/2018-07-12_2018-07-13_wildfire OR forest+fire.csv')\n",
    "fire_tweets.set_index(fire_tweets['date'], inplace = True)\n",
    "fire_tweets.drop(columns = ['date'], inplace = True)\n",
    "fire_tweets.dropna(inplace=True)\n",
    "fire_tweets.head()"
   ]
  },
  {
   "cell_type": "code",
   "execution_count": 4,
   "metadata": {},
   "outputs": [
    {
     "data": {
      "text/html": [
       "<div>\n",
       "<style scoped>\n",
       "    .dataframe tbody tr th:only-of-type {\n",
       "        vertical-align: middle;\n",
       "    }\n",
       "\n",
       "    .dataframe tbody tr th {\n",
       "        vertical-align: top;\n",
       "    }\n",
       "\n",
       "    .dataframe thead th {\n",
       "        text-align: right;\n",
       "    }\n",
       "</style>\n",
       "<table border=\"1\" class=\"dataframe\">\n",
       "  <thead>\n",
       "    <tr style=\"text-align: right;\">\n",
       "      <th></th>\n",
       "      <th>text</th>\n",
       "    </tr>\n",
       "    <tr>\n",
       "      <th>date</th>\n",
       "      <th></th>\n",
       "    </tr>\n",
       "  </thead>\n",
       "  <tbody>\n",
       "    <tr>\n",
       "      <th>2019-01-15 15:59:53</th>\n",
       "      <td>Gavin Newsom Begins Tackling California's Wild...</td>\n",
       "    </tr>\n",
       "    <tr>\n",
       "      <th>2019-01-15 15:58:55</th>\n",
       "      <td>Wildfire . . . . . . # ilikeithot # writersoft...</td>\n",
       "    </tr>\n",
       "    <tr>\n",
       "      <th>2019-01-15 15:58:51</th>\n",
       "      <td>*$6b from wildfire damages in 2017</td>\n",
       "    </tr>\n",
       "    <tr>\n",
       "      <th>2019-01-15 15:58:48</th>\n",
       "      <td>@ AciowaKsanti @ Starshinedraws, # Gillette di...</td>\n",
       "    </tr>\n",
       "    <tr>\n",
       "      <th>2019-01-15 15:58:18</th>\n",
       "      <td>Trump says he’ll pull FEMA funds for Californi...</td>\n",
       "    </tr>\n",
       "  </tbody>\n",
       "</table>\n",
       "</div>"
      ],
      "text/plain": [
       "                                                                  text\n",
       "date                                                                  \n",
       "2019-01-15 15:59:53  Gavin Newsom Begins Tackling California's Wild...\n",
       "2019-01-15 15:58:55  Wildfire . . . . . . # ilikeithot # writersoft...\n",
       "2019-01-15 15:58:51                 *$6b from wildfire damages in 2017\n",
       "2019-01-15 15:58:48  @ AciowaKsanti @ Starshinedraws, # Gillette di...\n",
       "2019-01-15 15:58:18  Trump says he’ll pull FEMA funds for Californi..."
      ]
     },
     "execution_count": 4,
     "metadata": {},
     "output_type": "execute_result"
    }
   ],
   "source": [
    "#reading in sample tweets\n",
    "recent_tweets = pd.read_csv('../data/datasets/2019-01-15_2019-01-16_wildfire OR forest+fire.csv')\n",
    "recent_tweets.set_index(recent_tweets['date'], inplace = True)\n",
    "recent_tweets.drop(columns = ['date'], inplace = True)\n",
    "recent_tweets.dropna(inplace=True)\n",
    "recent_tweets.head()"
   ]
  },
  {
   "cell_type": "markdown",
   "metadata": {},
   "source": [
    "### Preprocessing Data"
   ]
  },
  {
   "cell_type": "code",
   "execution_count": 5,
   "metadata": {},
   "outputs": [],
   "source": [
    "#instatiate lemmatizer, tokenizer, and stemmer\n",
    "lemmatizer = WordNetLemmatizer()\n",
    "tokenizer = RegexpTokenizer('\\w+')\n",
    "p_stemmer = PorterStemmer()\n",
    "\n",
    "#create set of stopwords from sklearn and add more words\n",
    "stops = set(stopwords.words('english'))\n",
    "more_stops = ['xb','amp']\n",
    "stops.update(more_stops)\n",
    "\n",
    "#function to clean text\n",
    "def to_words(raw_text):\n",
    "    ##remove links \n",
    "    raw_text = re.sub('(http:\\/\\/www\\.|https:\\/\\/www\\.|http:\\/\\/|https:\\/\\/)?[a-z0-9]+([\\-\\.]{1}[a-z0-9]+)*\\.[a-z]{2,5}(:[0-9]{1,5})?(\\/.*)?$', '', raw_text)\n",
    "    ##remove numbers\n",
    "    #raw_text = re.sub('\\d+', '', raw_text)\n",
    "    #tokenize\n",
    "    words = tokenizer.tokenize(raw_text.lower())\n",
    "    ##remove stop words and stem/lemmatize\n",
    "    meaningful_words = [lemmatizer.lemmatize(w) for w in words if not w in stops]\n",
    "    ##meaningful_words = [p_stemmer.stem(w) for w in words if not w in stops]\n",
    "    \n",
    "    return meaningful_words"
   ]
  },
  {
   "cell_type": "code",
   "execution_count": 6,
   "metadata": {},
   "outputs": [],
   "source": [
    "#takes trained doc2vec model, fitted linear model, and text series\n",
    "def make_preds(doc2vec, lr, text):\n",
    "    words = text.map(lambda x: to_words(x))\n",
    "    vectors = [(doc2vec.infer_vector(w, steps=20)) for w in words]\n",
    "    preds = lr.predict(vectors)\n",
    "    probas = [proba[1] for proba in lr.predict_proba(vectors)]\n",
    "    #returns array of predictions\n",
    "    return (preds, probas)"
   ]
  },
  {
   "cell_type": "markdown",
   "metadata": {},
   "source": [
    "### Making predictions for both date ranges:"
   ]
  },
  {
   "cell_type": "markdown",
   "metadata": {},
   "source": [
    "### Predicting urgency during a real wildfire event"
   ]
  },
  {
   "cell_type": "code",
   "execution_count": 7,
   "metadata": {},
   "outputs": [],
   "source": [
    "fire_preds, fire_probas = make_preds(model_dbow, logreg, fire_tweets['text'])\n",
    "fire_tweets['pred'] = fire_preds\n",
    "fire_tweets['proba'] = fire_probas"
   ]
  },
  {
   "cell_type": "code",
   "execution_count": 8,
   "metadata": {},
   "outputs": [
    {
     "data": {
      "text/html": [
       "<div>\n",
       "<style scoped>\n",
       "    .dataframe tbody tr th:only-of-type {\n",
       "        vertical-align: middle;\n",
       "    }\n",
       "\n",
       "    .dataframe tbody tr th {\n",
       "        vertical-align: top;\n",
       "    }\n",
       "\n",
       "    .dataframe thead th {\n",
       "        text-align: right;\n",
       "    }\n",
       "</style>\n",
       "<table border=\"1\" class=\"dataframe\">\n",
       "  <thead>\n",
       "    <tr style=\"text-align: right;\">\n",
       "      <th></th>\n",
       "      <th>text</th>\n",
       "      <th>pred</th>\n",
       "      <th>proba</th>\n",
       "    </tr>\n",
       "    <tr>\n",
       "      <th>date</th>\n",
       "      <th></th>\n",
       "      <th></th>\n",
       "      <th></th>\n",
       "    </tr>\n",
       "  </thead>\n",
       "  <tbody>\n",
       "    <tr>\n",
       "      <th>2018-07-12 16:59:55</th>\n",
       "      <td>You are a forest fire</td>\n",
       "      <td>0</td>\n",
       "      <td>0.491512</td>\n",
       "    </tr>\n",
       "    <tr>\n",
       "      <th>2018-07-12 16:59:05</th>\n",
       "      <td>@ fireadaptednet has a new blog \"Co-Managing W...</td>\n",
       "      <td>0</td>\n",
       "      <td>0.325324</td>\n",
       "    </tr>\n",
       "    <tr>\n",
       "      <th>2018-07-12 16:58:54</th>\n",
       "      <td>Ever wonder what type of questions you should ...</td>\n",
       "      <td>0</td>\n",
       "      <td>0.153826</td>\n",
       "    </tr>\n",
       "    <tr>\n",
       "      <th>2018-07-12 16:58:50</th>\n",
       "      <td>Ever wonder what type of questions you should ...</td>\n",
       "      <td>0</td>\n",
       "      <td>0.184275</td>\n",
       "    </tr>\n",
       "    <tr>\n",
       "      <th>2018-07-12 16:58:26</th>\n",
       "      <td>Updated: Evacuation order given as Kamloops wi...</td>\n",
       "      <td>1</td>\n",
       "      <td>0.929461</td>\n",
       "    </tr>\n",
       "  </tbody>\n",
       "</table>\n",
       "</div>"
      ],
      "text/plain": [
       "                                                                  text  pred  \\\n",
       "date                                                                           \n",
       "2018-07-12 16:59:55                              You are a forest fire     0   \n",
       "2018-07-12 16:59:05  @ fireadaptednet has a new blog \"Co-Managing W...     0   \n",
       "2018-07-12 16:58:54  Ever wonder what type of questions you should ...     0   \n",
       "2018-07-12 16:58:50  Ever wonder what type of questions you should ...     0   \n",
       "2018-07-12 16:58:26  Updated: Evacuation order given as Kamloops wi...     1   \n",
       "\n",
       "                        proba  \n",
       "date                           \n",
       "2018-07-12 16:59:55  0.491512  \n",
       "2018-07-12 16:59:05  0.325324  \n",
       "2018-07-12 16:58:54  0.153826  \n",
       "2018-07-12 16:58:50  0.184275  \n",
       "2018-07-12 16:58:26  0.929461  "
      ]
     },
     "execution_count": 8,
     "metadata": {},
     "output_type": "execute_result"
    }
   ],
   "source": [
    "fire_tweets.head()"
   ]
  },
  {
   "cell_type": "code",
   "execution_count": 9,
   "metadata": {},
   "outputs": [
    {
     "data": {
      "text/plain": [
       "1831"
      ]
     },
     "execution_count": 9,
     "metadata": {},
     "output_type": "execute_result"
    }
   ],
   "source": [
    "fire_tweets.shape[0]"
   ]
  },
  {
   "cell_type": "code",
   "execution_count": 15,
   "metadata": {
    "scrolled": true
   },
   "outputs": [
    {
     "data": {
      "text/plain": [
       "1    0.673403\n",
       "0    0.326597\n",
       "Name: pred, dtype: float64"
      ]
     },
     "execution_count": 15,
     "metadata": {},
     "output_type": "execute_result"
    }
   ],
   "source": [
    "fire_tweets.pred.value_counts(normalize = True)"
   ]
  },
  {
   "cell_type": "code",
   "execution_count": 17,
   "metadata": {},
   "outputs": [],
   "source": [
    "fire_tweets.to_csv('../data/predictions/2018-07-12_2018-07-13_wildfire OR forest+fire.csv')"
   ]
  },
  {
   "cell_type": "markdown",
   "metadata": {},
   "source": [
    "### Predicting urgency when a wildfire is not occurring"
   ]
  },
  {
   "cell_type": "code",
   "execution_count": 11,
   "metadata": {},
   "outputs": [],
   "source": [
    "recent_preds, recent_probas = make_preds(model_dbow, logreg, recent_tweets['text'])\n",
    "recent_tweets['pred'] = recent_preds\n",
    "recent_tweets['proba'] = recent_probas"
   ]
  },
  {
   "cell_type": "code",
   "execution_count": 12,
   "metadata": {},
   "outputs": [
    {
     "data": {
      "text/html": [
       "<div>\n",
       "<style scoped>\n",
       "    .dataframe tbody tr th:only-of-type {\n",
       "        vertical-align: middle;\n",
       "    }\n",
       "\n",
       "    .dataframe tbody tr th {\n",
       "        vertical-align: top;\n",
       "    }\n",
       "\n",
       "    .dataframe thead th {\n",
       "        text-align: right;\n",
       "    }\n",
       "</style>\n",
       "<table border=\"1\" class=\"dataframe\">\n",
       "  <thead>\n",
       "    <tr style=\"text-align: right;\">\n",
       "      <th></th>\n",
       "      <th>text</th>\n",
       "      <th>pred</th>\n",
       "      <th>proba</th>\n",
       "    </tr>\n",
       "    <tr>\n",
       "      <th>date</th>\n",
       "      <th></th>\n",
       "      <th></th>\n",
       "      <th></th>\n",
       "    </tr>\n",
       "  </thead>\n",
       "  <tbody>\n",
       "    <tr>\n",
       "      <th>2019-01-15 15:59:53</th>\n",
       "      <td>Gavin Newsom Begins Tackling California's Wild...</td>\n",
       "      <td>1</td>\n",
       "      <td>0.935470</td>\n",
       "    </tr>\n",
       "    <tr>\n",
       "      <th>2019-01-15 15:58:55</th>\n",
       "      <td>Wildfire . . . . . . # ilikeithot # writersoft...</td>\n",
       "      <td>1</td>\n",
       "      <td>0.549091</td>\n",
       "    </tr>\n",
       "    <tr>\n",
       "      <th>2019-01-15 15:58:51</th>\n",
       "      <td>*$6b from wildfire damages in 2017</td>\n",
       "      <td>1</td>\n",
       "      <td>0.625218</td>\n",
       "    </tr>\n",
       "    <tr>\n",
       "      <th>2019-01-15 15:58:48</th>\n",
       "      <td>@ AciowaKsanti @ Starshinedraws, # Gillette di...</td>\n",
       "      <td>1</td>\n",
       "      <td>0.521022</td>\n",
       "    </tr>\n",
       "    <tr>\n",
       "      <th>2019-01-15 15:58:18</th>\n",
       "      <td>Trump says he’ll pull FEMA funds for Californi...</td>\n",
       "      <td>1</td>\n",
       "      <td>0.986043</td>\n",
       "    </tr>\n",
       "  </tbody>\n",
       "</table>\n",
       "</div>"
      ],
      "text/plain": [
       "                                                                  text  pred  \\\n",
       "date                                                                           \n",
       "2019-01-15 15:59:53  Gavin Newsom Begins Tackling California's Wild...     1   \n",
       "2019-01-15 15:58:55  Wildfire . . . . . . # ilikeithot # writersoft...     1   \n",
       "2019-01-15 15:58:51                 *$6b from wildfire damages in 2017     1   \n",
       "2019-01-15 15:58:48  @ AciowaKsanti @ Starshinedraws, # Gillette di...     1   \n",
       "2019-01-15 15:58:18  Trump says he’ll pull FEMA funds for Californi...     1   \n",
       "\n",
       "                        proba  \n",
       "date                           \n",
       "2019-01-15 15:59:53  0.935470  \n",
       "2019-01-15 15:58:55  0.549091  \n",
       "2019-01-15 15:58:51  0.625218  \n",
       "2019-01-15 15:58:48  0.521022  \n",
       "2019-01-15 15:58:18  0.986043  "
      ]
     },
     "execution_count": 12,
     "metadata": {},
     "output_type": "execute_result"
    }
   ],
   "source": [
    "recent_tweets.head()"
   ]
  },
  {
   "cell_type": "code",
   "execution_count": 13,
   "metadata": {},
   "outputs": [
    {
     "data": {
      "text/plain": [
       "2389"
      ]
     },
     "execution_count": 13,
     "metadata": {},
     "output_type": "execute_result"
    }
   ],
   "source": [
    "recent_tweets.shape[0]"
   ]
  },
  {
   "cell_type": "code",
   "execution_count": 16,
   "metadata": {
    "scrolled": true
   },
   "outputs": [
    {
     "data": {
      "text/plain": [
       "0    0.516953\n",
       "1    0.483047\n",
       "Name: pred, dtype: float64"
      ]
     },
     "execution_count": 16,
     "metadata": {},
     "output_type": "execute_result"
    }
   ],
   "source": [
    "recent_tweets.pred.value_counts(normalize = True)"
   ]
  },
  {
   "cell_type": "markdown",
   "metadata": {},
   "source": [
    "### Save Predictions"
   ]
  },
  {
   "cell_type": "code",
   "execution_count": 18,
   "metadata": {},
   "outputs": [],
   "source": [
    "recent_tweets.to_csv('../data/predictions/2019-01-15_2019-01-16_wildfire OR forest+fire.csv')"
   ]
  }
 ],
 "metadata": {
  "kernelspec": {
   "display_name": "Python [conda env:dsi]",
   "language": "python",
   "name": "conda-env-dsi-py"
  },
  "language_info": {
   "codemirror_mode": {
    "name": "ipython",
    "version": 3
   },
   "file_extension": ".py",
   "mimetype": "text/x-python",
   "name": "python",
   "nbconvert_exporter": "python",
   "pygments_lexer": "ipython3",
   "version": "3.6.5"
  }
 },
 "nbformat": 4,
 "nbformat_minor": 2
}
