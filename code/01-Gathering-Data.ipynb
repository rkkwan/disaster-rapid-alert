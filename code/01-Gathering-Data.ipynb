{
 "cells": [
  {
   "cell_type": "markdown",
   "metadata": {},
   "source": [
    "# Gathering Data"
   ]
  },
  {
   "cell_type": "markdown",
   "metadata": {},
   "source": [
    "## Table of Contents\n",
    "\n",
    "1. [Collecting Tweets](01-Gathering-Data.ipynb)\n",
    "1. [Feature Engineering with TF-IDF](02-Feature-Engineering.ipynb)\n",
    "1. [Benchmark Model](03-Benchmark-Model.ipynb)\n",
    "1. [Feature Engineering & Model Tuning with Doc2Vec](04-Model-Tuning.ipynb)\n",
    "1. [Making Predictions on Test Data](05-Making-Predictions.ipynb)\n",
    "1. [Visualizing a Disaster Event](06-Time-Series-Analysis.ipynb)"
   ]
  },
  {
   "cell_type": "markdown",
   "metadata": {},
   "source": [
    "### Install Packages\n",
    "This only needs to be done once."
   ]
  },
  {
   "cell_type": "code",
   "execution_count": 49,
   "metadata": {},
   "outputs": [],
   "source": [
    "# !pip install pyquery\n",
    "# !pip install -r './lib/got3/requirements.txt'"
   ]
  },
  {
   "cell_type": "markdown",
   "metadata": {},
   "source": [
    "### Import Libraries"
   ]
  },
  {
   "cell_type": "code",
   "execution_count": 51,
   "metadata": {},
   "outputs": [],
   "source": [
    "import pandas as pd\n",
    "import time\n",
    "import lib.got3 as got\n"
   ]
  },
  {
   "cell_type": "markdown",
   "metadata": {},
   "source": [
    "## Collecting Tweets from Twitter using GetOldTweets (GOT)"
   ]
  },
  {
   "cell_type": "markdown",
   "metadata": {},
   "source": [
    "### Convert GOT tweets to Pandas Dataframe"
   ]
  },
  {
   "cell_type": "code",
   "execution_count": 52,
   "metadata": {},
   "outputs": [],
   "source": [
    "def tweets_to_df(tweets):\n",
    "    '''\n",
    "    Converts tweets in acquired using GOT into a Pandas dataframe.\n",
    "    Index: date\n",
    "    Columns: text\n",
    "    '''\n",
    "    tweets_list = []\n",
    "    for t in tweets:\n",
    "        tweet_dict = {}\n",
    "        tweet_dict['date'] = t.date\n",
    "        tweet_dict['text'] = t.text\n",
    "        tweets_list.append(tweet_dict)\n",
    "        \n",
    "    tweets_df = pd.DataFrame(tweets_list)\n",
    "    \n",
    "    # convert to time series\n",
    "    tweets_df.set_index(tweets_df['date'], inplace = True)\n",
    "    tweets_df.sort_index(ascending = True)\n",
    "    \n",
    "    return tweets_df[['text']]\n",
    "    "
   ]
  },
  {
   "cell_type": "markdown",
   "metadata": {},
   "source": [
    "### Set up search query"
   ]
  },
  {
   "cell_type": "code",
   "execution_count": 37,
   "metadata": {},
   "outputs": [],
   "source": [
    "query = 'wildfire OR forest+fire'\n",
    "since = '2018-07-10'\n",
    "until = '2018-07-11'\n",
    "count = 20000\n",
    "\n",
    "tweetCriteria = got.manager.TweetCriteria().setQuerySearch(query)\\\n",
    "                                           .setSince(since)\\\n",
    "                                           .setUntil(until)\\\n",
    "                                           .setMaxTweets(count)"
   ]
  },
  {
   "cell_type": "markdown",
   "metadata": {},
   "source": [
    "### Search using multiple date ranges, save each search result to separate CSVs\n",
    "\n",
    "Since there are so many tweets in a day, it is advised to search on one-day date ranges."
   ]
  },
  {
   "cell_type": "code",
   "execution_count": 44,
   "metadata": {},
   "outputs": [],
   "source": [
    "query = 'wildfire OR forest+fire'\n",
    "dates = ['2018-07-12', '2018-07-13']"
   ]
  },
  {
   "cell_type": "code",
   "execution_count": 45,
   "metadata": {},
   "outputs": [
    {
     "name": "stdout",
     "output_type": "stream",
     "text": [
      "Got 1837 tweets from 2018-07-12 to 2018-07-13 in 45.47 seconds\n"
     ]
    }
   ],
   "source": [
    "for i in range(len(dates)-1):\n",
    "    \n",
    "    # Set up search query\n",
    "    since = dates[i]\n",
    "    until = dates[i+1]\n",
    "    tweetCriteria = got.manager.TweetCriteria().setQuerySearch(query)\\\n",
    "                                           .setSince(since)\\\n",
    "                                           .setUntil(until)\\\n",
    "                                           .setMaxTweets(count)\n",
    "\n",
    "    # Run search\n",
    "    t0 = time.time()\n",
    "    tweets =  got.manager.TweetManager.getTweets(tweetCriteria)\n",
    "    t1 = time.time() - t0\n",
    "    \n",
    "    # Print progress\n",
    "    print(f'Got {len(tweets)} tweets from {since} to {until} in {round(t1, 2)} seconds')\n",
    "    \n",
    "    # Convert tweets to dataframe\n",
    "    tweets_df = tweets_to_df(tweets)\n",
    "    \n",
    "    # Save Tweets with date range and query\n",
    "    tweets_df.to_csv(f'../data/{since}_{until}_{query}.csv', index = True, index_label = 'date')"
   ]
  }
 ],
 "metadata": {
  "kernelspec": {
   "display_name": "Python 3",
   "language": "python",
   "name": "python3"
  },
  "language_info": {
   "codemirror_mode": {
    "name": "ipython",
    "version": 3
   },
   "file_extension": ".py",
   "mimetype": "text/x-python",
   "name": "python",
   "nbconvert_exporter": "python",
   "pygments_lexer": "ipython3",
   "version": "3.6.5"
  }
 },
 "nbformat": 4,
 "nbformat_minor": 2
}
